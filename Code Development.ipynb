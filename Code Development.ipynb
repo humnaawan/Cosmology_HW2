{
 "cells": [
  {
   "cell_type": "code",
   "execution_count": 1,
   "metadata": {
    "collapsed": false
   },
   "outputs": [],
   "source": [
    "import matplotlib.pyplot as plt\n",
    "%matplotlib inline\n",
    "import numpy as np\n",
    "from scipy.integrate import odeint"
   ]
  },
  {
   "cell_type": "code",
   "execution_count": 2,
   "metadata": {
    "collapsed": false
   },
   "outputs": [],
   "source": [
    "def neutronAbundance(mp, mn, Xn0, etaB):\n",
    "    Q= mn-mp   # MeV\n",
    "    tauN = 886.7  # sec; neturon lifetime\n",
    "    \n",
    "    def H1(Q, gstar= 10.75): # based on Dod Eq. 3.28\n",
    "        DodQ= 1.293\n",
    "        G=  1.13**2*45./(4*np.pi**3.*gstar*DodQ**4)\n",
    "        return np.sqrt(4.*np.pi**3*G*Q**4/45.)*np.sqrt(gstar) \n",
    "\n",
    "    def lambda_NP(x):\n",
    "        return (255./(tauN*x**5.))*(12. + 6.*x + x**2.) # Dod Eq. 3.29\n",
    "        \n",
    "    #print lambda_NP(1)\n",
    "    def dXndx(Xn, x, gstar= 10.75):\n",
    "        factor= x*lambda_NP(x)*(mp/mn)**(3./2.)/H1(Q, gstar= gstar)\n",
    "        #factor= x*lambdaNP(x)/H1(Q, gstar= gstar)\n",
    "        dXndx = factor*(np.exp(-x) - Xn*(1. + np.exp(-x)))\n",
    "        return dXndx\n",
    "    \n",
    "    # plot T vs. Xn\n",
    "    T = np.logspace(0,-3, 100)\n",
    "    x= Q/T\n",
    "    result = odeint(dXndx, Xn0, x, args= (10.75,))\n",
    "    plt.plot(T, result[:,0], 'o', color='b', label= 'X_n')\n",
    "    plt.plot(T, result[:,0], color='b')\n",
    "\n",
    "    result2 = odeint(dXndx, Xn0, x, args= (3.36,))\n",
    "    #print result2\n",
    "    t= 132.*(.1/T)**2.\n",
    "    result2= result2[:,0]*np.exp(-t/tauN)\n",
    "    plt.plot(T, 2.*result2, 'o', color='g', label= 'X_n_EQ')\n",
    "    plt.plot(T, 2.*result2, color='g')\n",
    "\n",
    "    plt.gca().invert_xaxis()\n",
    "    plt.xlim(1.3, 0.0005)\n",
    "    plt.ylim(10**-5, 10**0)\n",
    "    plt.xlabel('T (MeV)')\n",
    "    plt.ylabel('Fractional Abundance')\n",
    "    plt.xscale('log')\n",
    "    plt.yscale('log')\n",
    "    plt.legend(loc= \"best\")\n",
    "    plt.show()"
   ]
  },
  {
   "cell_type": "code",
   "execution_count": 3,
   "metadata": {
    "collapsed": false
   },
   "outputs": [
    {
     "data": {
      "image/png": "[encoded data removed]",
      "text/plain": [
       "<matplotlib.figure.Figure at 0x108856d50>"
      ]
     },
     "metadata": {},
     "output_type": "display_data"
    }
   ],
   "source": [
    "mn= 939.566 # MeV\n",
    "mp= 938.272 #MeV\n",
    "neutronAbundance(mp, mn, [0.5], 0)"
   ]
  },
  {
   "cell_type": "code",
   "execution_count": null,
   "metadata": {
    "collapsed": true
   },
   "outputs": [],
   "source": []
  }
 ],
 "metadata": {
  "kernelspec": {
   "display_name": "Python 2",
   "language": "python",
   "name": "python2"
  },
  "language_info": {
   "codemirror_mode": {
    "name": "ipython",
    "version": 2
   },
   "file_extension": ".py",
   "mimetype": "text/x-python",
   "name": "python",
   "nbconvert_exporter": "python",
   "pygments_lexer": "ipython2",
   "version": "2.7.12"
  }
 },
 "nbformat": 4,
 "nbformat_minor": 0
}
